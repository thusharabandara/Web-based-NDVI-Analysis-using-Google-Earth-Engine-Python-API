{
  "nbformat": 4,
  "nbformat_minor": 0,
  "metadata": {
    "colab": {
      "provenance": [],
      "collapsed_sections": [],
      "authorship_tag": "ABX9TyMK4kAs0XB0lRaBdm5lsiTQ",
      "include_colab_link": true
    },
    "kernelspec": {
      "name": "python3",
      "display_name": "Python 3"
    },
    "language_info": {
      "name": "python"
    }
  },
  "cells": [
    {
      "cell_type": "markdown",
      "metadata": {
        "id": "view-in-github",
        "colab_type": "text"
      },
      "source": [
        "<a href=\"https://colab.research.google.com/github/thusharabandara/Web-based-NDVI-Analysis-using-Google-Earth-Engine-Python-API/blob/main/py6_group_NDVI_Calculation_GEE.ipynb\" target=\"_parent\"><img src=\"https://colab.research.google.com/assets/colab-badge.svg\" alt=\"Open In Colab\"/></a>"
      ]
    },
    {
      "cell_type": "code",
      "execution_count": null,
      "metadata": {
        "colab": {
          "base_uri": "https://localhost:8080/"
        },
        "id": "Y_r5p3ax68Qi",
        "outputId": "29f69e83-9ebb-4eef-f305-3609085f5f28"
      },
      "outputs": [
        {
          "output_type": "stream",
          "name": "stdout",
          "text": [
            "To authorize access needed by Earth Engine, open the following URL in a web browser and follow the instructions. If the web browser does not start automatically, please manually browse the URL below.\n",
            "\n",
            "    https://code.earthengine.google.com/client-auth?scopes=https%3A//www.googleapis.com/auth/earthengine%20https%3A//www.googleapis.com/auth/devstorage.full_control&request_id=19yN3k8xervQnZVoshupr_pnTzd024hhCixqEbokU3I&tc=gdeqFnvXjrkm-ly2c8aUP4qYTfP79NWqMHPDK3NkTPs&cc=ehrx6pVll5Sxget4XxGicp0EKCGdy5LQNmky5Ut9eAs\n",
            "\n",
            "The authorization workflow will generate a code, which you should paste in the box below.\n",
            "Enter verification code: 4/1ARtbsJqcKxBlfC0AS9C6plw_oj9df0jtETn6-hsLoR4pmWrHREnvysFDD1s\n",
            "\n",
            "Successfully saved authorization token.\n"
          ]
        }
      ],
      "source": [
        "# Five year Landsat 7 composite comparision\n",
        "# Concept Testing code.\n",
        "# Author: Malinga Prabhasara\n",
        "\n",
        "\n",
        "# import google earth engine\n",
        "import ee\n",
        "\n",
        "# Starting the Google authentication \n",
        "ee.Authenticate()\n",
        "\n",
        "# Initializing the google earth engine library\n",
        "ee.Initialize()\n"
      ]
    },
    {
      "cell_type": "code",
      "source": [
        "# Load the 1999 to 2003 Landsat7 Composite\n",
        "lsat99 = ee.Image('LANDSAT/LE7_TOA_5YEAR/1999_2003')\n",
        "\n",
        "# Load the 2008 to 2012 Landsat7 Composite\n",
        "lsat08 = ee.Image('LANDSAT/LE7_TOA_5YEAR/2008_2012')\n"
      ],
      "metadata": {
        "id": "XYw0-lZU8dNL"
      },
      "execution_count": null,
      "outputs": []
    },
    {
      "cell_type": "code",
      "source": [
        "# Compute NDVI for 1999 to 2003 \n",
        "NDVI99 = lsat99.normalizedDifference([\"B4\", \"B3\"])\n",
        "\n",
        "# Compute NDVI for 2008 to 2012 \n",
        "NDVI08 = lsat08.normalizedDifference([\"B4\", \"B3\"])\n",
        "\n",
        "# Color parameters for NDVI (This is sujected to change)\n",
        "ndviColorParams = {'palette': [\"#d73027\", \"#f46d43\", \"#fdae61\", \"#fee08b\", \"#d9ef8b\", \"#a6d96a\", \"#66bd63\", \"#1a9850\"]}"
      ],
      "metadata": {
        "id": "me4PzwGJOnpU"
      },
      "execution_count": null,
      "outputs": []
    },
    {
      "cell_type": "code",
      "source": [
        "# Importing the folium library\n",
        "import folium\n",
        "\n",
        "# Displaying Earth Engine image titles to folium map\n",
        "def add_earthengine_layer(mainMap, ee_img_obj, vis_params, name):\n",
        "  map_id_dict = ee.Image(ee_img_obj).getMapId(vis_params)\n",
        "  folium.raster_layers.TileLayer(\n",
        "      tiles = map_id_dict['tile_fetcher'].url_format,\n",
        "      attr = 'Map Data &copy; <a href=\"https://earthengine.google.com/\">Google Earth Engine</a>',\n",
        "      name = name,\n",
        "      overlay = True,\n",
        "      control = True,\n",
        "\n",
        "  ).add_to(mainMap)\n",
        "\n",
        "# Add Earth Engine drawing method to  folium\n",
        "folium.Map.add_earthengine_layer = add_earthengine_layer\n",
        "\n",
        "# Create a folium map object on Sri Lankan Frame\n",
        "ndvi_map = folium.Map(location=[5, 81], zoom_start = 7)\n",
        "\n",
        "# Add a Calculated NDVI layers to the map object\n",
        "ndvi_map.add_earthengine_layer(NDVI99, ndviColorParams, 'NDVI 1999-2003')\n",
        "ndvi_map.add_earthengine_layer(NDVI08, ndviColorParams, 'NDVI 2008-2012')\n",
        "\n",
        "# Add a layer control panel to the map\n",
        "ndvi_map.add_child(folium.LayerControl())\n",
        "\n",
        "#Display the NDVI map\n",
        "display(ndvi_map)"
      ],
      "metadata": {
        "id": "Pmy0ZJi5ROBQ",
        "colab": {
          "base_uri": "https://localhost:8080/",
          "height": 1000
        },
        "outputId": "a24685e2-a540-4e89-b594-7cd9c6fde963"
      },
      "execution_count": null,
      "outputs": [
        {
          "output_type": "display_data",
          "data": {
            "text/plain": [
              "<folium.folium.Map at 0x7f47cee9abd0>"
            ],
            "text/html": [
              "<div style=\"width:100%;\"><div style=\"position:relative;width:100%;height:0;padding-bottom:60%;\"><span style=\"color:#565656\">Make this Notebook Trusted to load map: File -> Trust Notebook</span><iframe srcdoc=\"&lt;!DOCTYPE html&gt;\n",
              "&lt;head&gt;    \n",
              "    &lt;meta http-equiv=&quot;content-type&quot; content=&quot;text/html; charset=UTF-8&quot; /&gt;\n",
              "    \n",
              "        &lt;script&gt;\n",
              "            L_NO_TOUCH = false;\n",
              "            L_DISABLE_3D = false;\n",
              "        &lt;/script&gt;\n",
              "    \n",
              "    &lt;style&gt;html, body {width: 100%;height: 100%;margin: 0;padding: 0;}&lt;/style&gt;\n",
              "    &lt;style&gt;#map {position:absolute;top:0;bottom:0;right:0;left:0;}&lt;/style&gt;\n",
              "    &lt;script src=&quot;https://cdn.jsdelivr.net/npm/leaflet@1.6.0/dist/leaflet.js&quot;&gt;&lt;/script&gt;\n",
              "    &lt;script src=&quot;https://code.jquery.com/jquery-1.12.4.min.js&quot;&gt;&lt;/script&gt;\n",
              "    &lt;script src=&quot;https://maxcdn.bootstrapcdn.com/bootstrap/3.2.0/js/bootstrap.min.js&quot;&gt;&lt;/script&gt;\n",
              "    &lt;script src=&quot;https://cdnjs.cloudflare.com/ajax/libs/Leaflet.awesome-markers/2.0.2/leaflet.awesome-markers.js&quot;&gt;&lt;/script&gt;\n",
              "    &lt;link rel=&quot;stylesheet&quot; href=&quot;https://cdn.jsdelivr.net/npm/leaflet@1.6.0/dist/leaflet.css&quot;/&gt;\n",
              "    &lt;link rel=&quot;stylesheet&quot; href=&quot;https://maxcdn.bootstrapcdn.com/bootstrap/3.2.0/css/bootstrap.min.css&quot;/&gt;\n",
              "    &lt;link rel=&quot;stylesheet&quot; href=&quot;https://maxcdn.bootstrapcdn.com/bootstrap/3.2.0/css/bootstrap-theme.min.css&quot;/&gt;\n",
              "    &lt;link rel=&quot;stylesheet&quot; href=&quot;https://maxcdn.bootstrapcdn.com/font-awesome/4.6.3/css/font-awesome.min.css&quot;/&gt;\n",
              "    &lt;link rel=&quot;stylesheet&quot; href=&quot;https://cdnjs.cloudflare.com/ajax/libs/Leaflet.awesome-markers/2.0.2/leaflet.awesome-markers.css&quot;/&gt;\n",
              "    &lt;link rel=&quot;stylesheet&quot; href=&quot;https://cdn.jsdelivr.net/gh/python-visualization/folium/folium/templates/leaflet.awesome.rotate.min.css&quot;/&gt;\n",
              "    \n",
              "            &lt;meta name=&quot;viewport&quot; content=&quot;width=device-width,\n",
              "                initial-scale=1.0, maximum-scale=1.0, user-scalable=no&quot; /&gt;\n",
              "            &lt;style&gt;\n",
              "                #map_d24495dfec74470a2d39e3d7b924b29b {\n",
              "                    position: relative;\n",
              "                    width: 100.0%;\n",
              "                    height: 100.0%;\n",
              "                    left: 0.0%;\n",
              "                    top: 0.0%;\n",
              "                }\n",
              "            &lt;/style&gt;\n",
              "        \n",
              "&lt;/head&gt;\n",
              "&lt;body&gt;    \n",
              "    \n",
              "            &lt;div class=&quot;folium-map&quot; id=&quot;map_d24495dfec74470a2d39e3d7b924b29b&quot; &gt;&lt;/div&gt;\n",
              "        \n",
              "&lt;/body&gt;\n",
              "&lt;script&gt;    \n",
              "    \n",
              "            var map_d24495dfec74470a2d39e3d7b924b29b = L.map(\n",
              "                &quot;map_d24495dfec74470a2d39e3d7b924b29b&quot;,\n",
              "                {\n",
              "                    center: [5.0, 81.0],\n",
              "                    crs: L.CRS.EPSG3857,\n",
              "                    zoom: 7,\n",
              "                    zoomControl: true,\n",
              "                    preferCanvas: false,\n",
              "                }\n",
              "            );\n",
              "\n",
              "            \n",
              "\n",
              "        \n",
              "    \n",
              "            var tile_layer_7c4627993969d6413f4e2c42954286ce = L.tileLayer(\n",
              "                &quot;https://{s}.tile.openstreetmap.org/{z}/{x}/{y}.png&quot;,\n",
              "                {&quot;attribution&quot;: &quot;Data by \\u0026copy; \\u003ca href=\\&quot;http://openstreetmap.org\\&quot;\\u003eOpenStreetMap\\u003c/a\\u003e, under \\u003ca href=\\&quot;http://www.openstreetmap.org/copyright\\&quot;\\u003eODbL\\u003c/a\\u003e.&quot;, &quot;detectRetina&quot;: false, &quot;maxNativeZoom&quot;: 18, &quot;maxZoom&quot;: 18, &quot;minZoom&quot;: 0, &quot;noWrap&quot;: false, &quot;opacity&quot;: 1, &quot;subdomains&quot;: &quot;abc&quot;, &quot;tms&quot;: false}\n",
              "            ).addTo(map_d24495dfec74470a2d39e3d7b924b29b);\n",
              "        \n",
              "    \n",
              "            var tile_layer_e2aff2212efcb3ed9b6984716f06ea66 = L.tileLayer(\n",
              "                &quot;https://earthengine.googleapis.com/v1alpha/projects/earthengine-legacy/maps/ee02ea757998a7c0efa9f15fe5414ae1-d8add9da777e8d1c75fb0e37ccc85c2d/tiles/{z}/{x}/{y}&quot;,\n",
              "                {&quot;attribution&quot;: &quot;Map Data \\u0026copy; \\u003ca href=\\&quot;https://earthengine.google.com/\\&quot;\\u003eGoogle Earth Engine\\u003c/a\\u003e&quot;, &quot;detectRetina&quot;: false, &quot;maxNativeZoom&quot;: 18, &quot;maxZoom&quot;: 18, &quot;minZoom&quot;: 0, &quot;noWrap&quot;: false, &quot;opacity&quot;: 1, &quot;subdomains&quot;: &quot;abc&quot;, &quot;tms&quot;: false}\n",
              "            ).addTo(map_d24495dfec74470a2d39e3d7b924b29b);\n",
              "        \n",
              "    \n",
              "            var tile_layer_fbef0340f486fff12cf4ba02a0b5c209 = L.tileLayer(\n",
              "                &quot;https://earthengine.googleapis.com/v1alpha/projects/earthengine-legacy/maps/d05945149128aa9e248b7a5fa7046856-7a4ea0738d2568d289378e74e3fe33fe/tiles/{z}/{x}/{y}&quot;,\n",
              "                {&quot;attribution&quot;: &quot;Map Data \\u0026copy; \\u003ca href=\\&quot;https://earthengine.google.com/\\&quot;\\u003eGoogle Earth Engine\\u003c/a\\u003e&quot;, &quot;detectRetina&quot;: false, &quot;maxNativeZoom&quot;: 18, &quot;maxZoom&quot;: 18, &quot;minZoom&quot;: 0, &quot;noWrap&quot;: false, &quot;opacity&quot;: 1, &quot;subdomains&quot;: &quot;abc&quot;, &quot;tms&quot;: false}\n",
              "            ).addTo(map_d24495dfec74470a2d39e3d7b924b29b);\n",
              "        \n",
              "    \n",
              "            var layer_control_d0ac3ccc139ca38e0eda46c2cfb052d1 = {\n",
              "                base_layers : {\n",
              "                    &quot;openstreetmap&quot; : tile_layer_7c4627993969d6413f4e2c42954286ce,\n",
              "                },\n",
              "                overlays :  {\n",
              "                    &quot;NDVI 1999&quot; : tile_layer_e2aff2212efcb3ed9b6984716f06ea66,\n",
              "                    &quot;NDVI 2008&quot; : tile_layer_fbef0340f486fff12cf4ba02a0b5c209,\n",
              "                },\n",
              "            };\n",
              "            L.control.layers(\n",
              "                layer_control_d0ac3ccc139ca38e0eda46c2cfb052d1.base_layers,\n",
              "                layer_control_d0ac3ccc139ca38e0eda46c2cfb052d1.overlays,\n",
              "                {&quot;autoZIndex&quot;: true, &quot;collapsed&quot;: true, &quot;position&quot;: &quot;topright&quot;}\n",
              "            ).addTo(map_d24495dfec74470a2d39e3d7b924b29b);\n",
              "        \n",
              "&lt;/script&gt;\" style=\"position:absolute;width:100%;height:100%;left:0;top:0;border:none !important;\" allowfullscreen webkitallowfullscreen mozallowfullscreen></iframe></div></div>"
            ]
          },
          "metadata": {}
        }
      ]
    },
    {
      "cell_type": "code",
      "source": [
        "import greppo\n"
      ],
      "metadata": {
        "id": "lpBKBAuncVYU"
      },
      "execution_count": null,
      "outputs": []
    }
  ]
}