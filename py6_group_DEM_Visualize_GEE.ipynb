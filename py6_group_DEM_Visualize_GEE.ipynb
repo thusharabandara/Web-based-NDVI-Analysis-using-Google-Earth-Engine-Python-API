{
  "nbformat": 4,
  "nbformat_minor": 0,
  "metadata": {
    "colab": {
      "provenance": [],
      "collapsed_sections": []
    },
    "kernelspec": {
      "name": "python3",
      "display_name": "Python 3"
    },
    "language_info": {
      "name": "python"
    },
    "widgets": {
      "application/vnd.jupyter.widget-state+json": {
        "1642003ec53248629b72a46403b85525": {
          "model_module": "jupyter-leaflet",
          "model_name": "LeafletMapModel",
          "model_module_version": "^0.17",
          "state": {
            "_dom_classes": [],
            "_model_module": "jupyter-leaflet",
            "_model_module_version": "^0.17",
            "_model_name": "LeafletMapModel",
            "_view_count": null,
            "_view_module": "jupyter-leaflet",
            "_view_module_version": "^0.17",
            "_view_name": "LeafletMapView",
            "bottom": 15989,
            "bounce_at_zoom_limits": true,
            "box_zoom": true,
            "center": [
              7.612632691554347,
              80.70289259697327
            ],
            "close_popup_on_click": true,
            "controls": [
              "IPY_MODEL_2cff617a7bbf41689216e5c57f6adefd",
              "IPY_MODEL_6da0ef3dadac4344bf45d49e9f0803a0",
              "IPY_MODEL_d3313079bc89437bb6cfec88730555a3",
              "IPY_MODEL_5978bfb157b944fea9991b278bf9425e",
              "IPY_MODEL_e8b2669a0d744c7999dfda2e4b0b2dfd",
              "IPY_MODEL_2e9f295a711e436b98c1cf534f7e5c13",
              "IPY_MODEL_08ca1147c21845c7b4d0d13d099fcd48",
              "IPY_MODEL_833b5c244aa847e4bfc37b86b7f2af1a",
              "IPY_MODEL_12300ba459f64d37850b3460416b0fa6"
            ],
            "crs": {
              "name": "EPSG3857",
              "custom": false
            },
            "default_style": "IPY_MODEL_cfb3f27758da468f80674115607d1634",
            "double_click_zoom": true,
            "dragging": true,
            "dragging_style": "IPY_MODEL_e2a441ae9047487291e0754045fff38a",
            "east": 87.70385742187501,
            "fullscreen": false,
            "inertia": true,
            "inertia_deceleration": 3000,
            "inertia_max_speed": 1500,
            "interpolation": "bilinear",
            "keyboard": true,
            "keyboard_pan_offset": 80,
            "keyboard_zoom_offset": 1,
            "layers": [
              "IPY_MODEL_b7ca1c7aad9b48778e079f2285abc797",
              "IPY_MODEL_e55868b49120449c97d9b1c6b3505704",
              "IPY_MODEL_fd607a433a534a7ba6325ec7bfe1f0cb"
            ],
            "layout": "IPY_MODEL_d7779b0a3da94d839fc8b8a606723156",
            "left": 23093,
            "max_zoom": 24,
            "min_zoom": null,
            "modisdate": "2022-10-13",
            "north": 10.865675826639414,
            "options": [
              "bounce_at_zoom_limits",
              "box_zoom",
              "center",
              "close_popup_on_click",
              "double_click_zoom",
              "dragging",
              "fullscreen",
              "inertia",
              "inertia_deceleration",
              "inertia_max_speed",
              "interpolation",
              "keyboard",
              "keyboard_pan_offset",
              "keyboard_zoom_offset",
              "max_zoom",
              "min_zoom",
              "prefer_canvas",
              "scroll_wheel_zoom",
              "tap",
              "tap_tolerance",
              "touch_zoom",
              "world_copy_jump",
              "zoom",
              "zoom_animation_threshold",
              "zoom_delta",
              "zoom_snap"
            ],
            "panes": {},
            "prefer_canvas": false,
            "right": 24367,
            "scroll_wheel_zoom": true,
            "south": 4.335456463573485,
            "style": "IPY_MODEL_67a2939a18b4475e91b51bbfd0fbd15e",
            "tap": true,
            "tap_tolerance": 15,
            "top": 15389,
            "touch_zoom": true,
            "west": 73.70727539062501,
            "window_url": "https://donvni32g3-496ff2e9c6d22116-0-colab.googleusercontent.com/outputframe.html?vrz=colab-20221011-060057-RC01_480652161",
            "world_copy_jump": false,
            "zoom": 7,
            "zoom_animation_threshold": 4,
            "zoom_delta": 1,
            "zoom_snap": 1
          }
        },
        "2cff617a7bbf41689216e5c57f6adefd": {
          "model_module": "jupyter-leaflet",
          "model_name": "LeafletWidgetControlModel",
          "model_module_version": "^0.17",
          "state": {
            "_model_module": "jupyter-leaflet",
            "_model_module_version": "^0.17",
            "_model_name": "LeafletWidgetControlModel",
            "_view_count": null,
            "_view_module": "jupyter-leaflet",
            "_view_module_version": "^0.17",
            "_view_name": "LeafletWidgetControlView",
            "max_height": null,
            "max_width": null,
            "min_height": null,
            "min_width": null,
            "options": [
              "position",
              "transparent_bg"
            ],
            "position": "topleft",
            "transparent_bg": false,
            "widget": "IPY_MODEL_b0cb99b93856407f8239efaee60aae52"
          }
        },
        "6da0ef3dadac4344bf45d49e9f0803a0": {
          "model_module": "jupyter-leaflet",
          "model_name": "LeafletZoomControlModel",
          "model_module_version": "^0.17",
          "state": {
            "_model_module": "jupyter-leaflet",
            "_model_module_version": "^0.17",
            "_model_name": "LeafletZoomControlModel",
            "_view_count": null,
            "_view_module": "jupyter-leaflet",
            "_view_module_version": "^0.17",
            "_view_name": "LeafletZoomControlView",
            "options": [
              "position",
              "zoom_in_text",
              "zoom_in_title",
              "zoom_out_text",
              "zoom_out_title"
            ],
            "position": "topleft",
            "zoom_in_text": "+",
            "zoom_in_title": "Zoom in",
            "zoom_out_text": "-",
            "zoom_out_title": "Zoom out"
          }
        },
        "d3313079bc89437bb6cfec88730555a3": {
          "model_module": "jupyter-leaflet",
          "model_name": "LeafletScaleControlModel",
          "model_module_version": "^0.17",
          "state": {
            "_model_module": "jupyter-leaflet",
            "_model_module_version": "^0.17",
            "_model_name": "LeafletScaleControlModel",
            "_view_count": null,
            "_view_module": "jupyter-leaflet",
            "_view_module_version": "^0.17",
            "_view_name": "LeafletScaleControlView",
            "imperial": true,
            "max_width": 100,
            "metric": true,
            "options": [
              "imperial",
              "max_width",
              "metric",
              "position",
              "update_when_idle"
            ],
            "position": "bottomleft",
            "update_when_idle": false
          }
        },
        "5978bfb157b944fea9991b278bf9425e": {
          "model_module": "jupyter-leaflet",
          "model_name": "LeafletFullScreenControlModel",
          "model_module_version": "^0.17",
          "state": {
            "_model_module": "jupyter-leaflet",
            "_model_module_version": "^0.17",
            "_model_name": "LeafletFullScreenControlModel",
            "_view_count": null,
            "_view_module": "jupyter-leaflet",
            "_view_module_version": "^0.17",
            "_view_name": "LeafletFullScreenControlView",
            "options": [
              "position"
            ],
            "position": "topleft"
          }
        },
        "e8b2669a0d744c7999dfda2e4b0b2dfd": {
          "model_module": "jupyter-leaflet",
          "model_name": "LeafletMeasureControlModel",
          "model_module_version": "^0.17",
          "state": {
            "_custom_units": {},
            "_model_module": "jupyter-leaflet",
            "_model_module_version": "^0.17",
            "_model_name": "LeafletMeasureControlModel",
            "_view_count": null,
            "_view_module": "jupyter-leaflet",
            "_view_module_version": "^0.17",
            "_view_name": "LeafletMeasureControlView",
            "active_color": "orange",
            "capture_z_index": 10000,
            "completed_color": "#C8F2BE",
            "options": [
              "active_color",
              "capture_z_index",
              "completed_color",
              "popup_options",
              "position",
              "primary_area_unit",
              "primary_length_unit",
              "secondary_area_unit",
              "secondary_length_unit"
            ],
            "popup_options": {
              "className": "leaflet-measure-resultpopup",
              "autoPanPadding": [
                10,
                10
              ]
            },
            "position": "bottomleft",
            "primary_area_unit": "acres",
            "primary_length_unit": "kilometers",
            "secondary_area_unit": null,
            "secondary_length_unit": null
          }
        },
        "2e9f295a711e436b98c1cf534f7e5c13": {
          "model_module": "jupyter-leaflet",
          "model_name": "LeafletAttributionControlModel",
          "model_module_version": "^0.17",
          "state": {
            "_model_module": "jupyter-leaflet",
            "_model_module_version": "^0.17",
            "_model_name": "LeafletAttributionControlModel",
            "_view_count": null,
            "_view_module": "jupyter-leaflet",
            "_view_module_version": "^0.17",
            "_view_name": "LeafletAttributionControlView",
            "options": [
              "position",
              "prefix"
            ],
            "position": "bottomright",
            "prefix": "ipyleaflet"
          }
        },
        "08ca1147c21845c7b4d0d13d099fcd48": {
          "model_module": "jupyter-leaflet",
          "model_name": "LeafletDrawControlModel",
          "model_module_version": "^0.17",
          "state": {
            "_model_module": "jupyter-leaflet",
            "_model_module_version": "^0.17",
            "_model_name": "LeafletDrawControlModel",
            "_view_count": null,
            "_view_module": "jupyter-leaflet",
            "_view_module_version": "^0.17",
            "_view_name": "LeafletDrawControlView",
            "circle": {
              "shapeOptions": {
                "color": "#3388ff"
              }
            },
            "circlemarker": {},
            "data": [],
            "edit": true,
            "marker": {
              "shapeOptions": {
                "color": "#3388ff"
              }
            },
            "options": [
              "position"
            ],
            "polygon": {
              "shapeOptions": {}
            },
            "polyline": {
              "shapeOptions": {}
            },
            "position": "topleft",
            "rectangle": {
              "shapeOptions": {
                "color": "#3388ff"
              }
            },
            "remove": true
          }
        },
        "833b5c244aa847e4bfc37b86b7f2af1a": {
          "model_module": "jupyter-leaflet",
          "model_name": "LeafletWidgetControlModel",
          "model_module_version": "^0.17",
          "state": {
            "_model_module": "jupyter-leaflet",
            "_model_module_version": "^0.17",
            "_model_name": "LeafletWidgetControlModel",
            "_view_count": null,
            "_view_module": "jupyter-leaflet",
            "_view_module_version": "^0.17",
            "_view_name": "LeafletWidgetControlView",
            "max_height": null,
            "max_width": null,
            "min_height": null,
            "min_width": null,
            "options": [
              "position",
              "transparent_bg"
            ],
            "position": "topright",
            "transparent_bg": false,
            "widget": "IPY_MODEL_3f1519fc59f4414e8a814a640f2bc385"
          }
        },
        "12300ba459f64d37850b3460416b0fa6": {
          "model_module": "jupyter-leaflet",
          "model_name": "LeafletWidgetControlModel",
          "model_module_version": "^0.17",
          "state": {
            "_model_module": "jupyter-leaflet",
            "_model_module_version": "^0.17",
            "_model_name": "LeafletWidgetControlModel",
            "_view_count": null,
            "_view_module": "jupyter-leaflet",
            "_view_module_version": "^0.17",
            "_view_name": "LeafletWidgetControlView",
            "max_height": null,
            "max_width": null,
            "min_height": null,
            "min_width": null,
            "options": [
              "position",
              "transparent_bg"
            ],
            "position": "bottomright",
            "transparent_bg": true,
            "widget": "IPY_MODEL_13824c3033bc4e5c8523907890fe9dcd"
          }
        },
        "cfb3f27758da468f80674115607d1634": {
          "model_module": "jupyter-leaflet",
          "model_name": "LeafletMapStyleModel",
          "model_module_version": "^0.17",
          "state": {
            "_model_module": "jupyter-leaflet",
            "_model_module_version": "^0.17",
            "_model_name": "LeafletMapStyleModel",
            "_view_count": null,
            "_view_module": "@jupyter-widgets/base",
            "_view_module_version": "1.2.0",
            "_view_name": "StyleView",
            "cursor": "grab"
          }
        },
        "e2a441ae9047487291e0754045fff38a": {
          "model_module": "jupyter-leaflet",
          "model_name": "LeafletMapStyleModel",
          "model_module_version": "^0.17",
          "state": {
            "_model_module": "jupyter-leaflet",
            "_model_module_version": "^0.17",
            "_model_name": "LeafletMapStyleModel",
            "_view_count": null,
            "_view_module": "@jupyter-widgets/base",
            "_view_module_version": "1.2.0",
            "_view_name": "StyleView",
            "cursor": "move"
          }
        },
        "b7ca1c7aad9b48778e079f2285abc797": {
          "model_module": "jupyter-leaflet",
          "model_name": "LeafletTileLayerModel",
          "model_module_version": "^0.17",
          "state": {
            "_model_module": "jupyter-leaflet",
            "_model_module_version": "^0.17",
            "_model_name": "LeafletTileLayerModel",
            "_view_count": null,
            "_view_module": "jupyter-leaflet",
            "_view_module_version": "^0.17",
            "_view_name": "LeafletTileLayerView",
            "attribution": "&copy; <a href=\"https://www.openstreetmap.org/copyright\">OpenStreetMap</a> contributors",
            "base": true,
            "bottom": true,
            "bounds": null,
            "detect_retina": false,
            "loading": false,
            "max_native_zoom": null,
            "max_zoom": 19,
            "min_native_zoom": null,
            "min_zoom": 1,
            "name": "OpenStreetMap.Mapnik",
            "no_wrap": false,
            "opacity": 1,
            "options": [
              "attribution",
              "bounds",
              "detect_retina",
              "max_native_zoom",
              "max_zoom",
              "min_native_zoom",
              "min_zoom",
              "no_wrap",
              "tile_size",
              "tms",
              "zoom_offset"
            ],
            "pane": "",
            "popup": null,
            "popup_max_height": null,
            "popup_max_width": 300,
            "popup_min_width": 50,
            "show_loading": false,
            "tile_size": 256,
            "tms": false,
            "url": "https://tile.openstreetmap.org/{z}/{x}/{y}.png",
            "visible": true,
            "zoom_offset": 0
          }
        },
        "e55868b49120449c97d9b1c6b3505704": {
          "model_module": "jupyter-leaflet",
          "model_name": "LeafletTileLayerModel",
          "model_module_version": "^0.17",
          "state": {
            "_model_module": "jupyter-leaflet",
            "_model_module_version": "^0.17",
            "_model_name": "LeafletTileLayerModel",
            "_view_count": null,
            "_view_module": "jupyter-leaflet",
            "_view_module_version": "^0.17",
            "_view_name": "LeafletTileLayerView",
            "attribution": "Google",
            "base": false,
            "bottom": true,
            "bounds": null,
            "detect_retina": false,
            "loading": false,
            "max_native_zoom": null,
            "max_zoom": 22,
            "min_native_zoom": null,
            "min_zoom": 0,
            "name": "Google Maps",
            "no_wrap": false,
            "opacity": 1,
            "options": [
              "attribution",
              "bounds",
              "detect_retina",
              "max_native_zoom",
              "max_zoom",
              "min_native_zoom",
              "min_zoom",
              "no_wrap",
              "tile_size",
              "tms",
              "zoom_offset"
            ],
            "pane": "",
            "popup": null,
            "popup_max_height": null,
            "popup_max_width": 300,
            "popup_min_width": 50,
            "show_loading": false,
            "tile_size": 256,
            "tms": false,
            "url": "https://mt1.google.com/vt/lyrs=m&x={x}&y={y}&z={z}",
            "visible": true,
            "zoom_offset": 0
          }
        },
        "fd607a433a534a7ba6325ec7bfe1f0cb": {
          "model_module": "jupyter-leaflet",
          "model_name": "LeafletTileLayerModel",
          "model_module_version": "^0.17",
          "state": {
            "_model_module": "jupyter-leaflet",
            "_model_module_version": "^0.17",
            "_model_name": "LeafletTileLayerModel",
            "_view_count": null,
            "_view_module": "jupyter-leaflet",
            "_view_module_version": "^0.17",
            "_view_name": "LeafletTileLayerView",
            "attribution": "Google Earth Engine",
            "base": false,
            "bottom": true,
            "bounds": null,
            "detect_retina": false,
            "loading": false,
            "max_native_zoom": null,
            "max_zoom": 24,
            "min_native_zoom": null,
            "min_zoom": 0,
            "name": "SRTM Digital Elevation Model (DEM)",
            "no_wrap": false,
            "opacity": 1,
            "options": [
              "attribution",
              "bounds",
              "detect_retina",
              "max_native_zoom",
              "max_zoom",
              "min_native_zoom",
              "min_zoom",
              "no_wrap",
              "tile_size",
              "tms",
              "zoom_offset"
            ],
            "pane": "",
            "popup": null,
            "popup_max_height": null,
            "popup_max_width": 300,
            "popup_min_width": 50,
            "show_loading": false,
            "tile_size": 256,
            "tms": false,
            "url": "https://earthengine.googleapis.com/v1alpha/projects/earthengine-legacy/maps/e3b57446db9c3c16451092cf72684c53-90741419f49ae16b9865a3ef762a3d38/tiles/{z}/{x}/{y}",
            "visible": true,
            "zoom_offset": 0
          }
        },
        "d7779b0a3da94d839fc8b8a606723156": {
          "model_module": "@jupyter-widgets/base",
          "model_name": "LayoutModel",
          "model_module_version": "1.2.0",
          "state": {
            "_model_module": "@jupyter-widgets/base",
            "_model_module_version": "1.2.0",
            "_model_name": "LayoutModel",
            "_view_count": null,
            "_view_module": "@jupyter-widgets/base",
            "_view_module_version": "1.2.0",
            "_view_name": "LayoutView",
            "align_content": null,
            "align_items": null,
            "align_self": null,
            "border": null,
            "bottom": null,
            "display": null,
            "flex": null,
            "flex_flow": null,
            "grid_area": null,
            "grid_auto_columns": null,
            "grid_auto_flow": null,
            "grid_auto_rows": null,
            "grid_column": null,
            "grid_gap": null,
            "grid_row": null,
            "grid_template_areas": null,
            "grid_template_columns": null,
            "grid_template_rows": null,
            "height": "600px",
            "justify_content": null,
            "justify_items": null,
            "left": null,
            "margin": null,
            "max_height": null,
            "max_width": null,
            "min_height": null,
            "min_width": null,
            "object_fit": null,
            "object_position": null,
            "order": null,
            "overflow": null,
            "overflow_x": null,
            "overflow_y": null,
            "padding": null,
            "right": null,
            "top": null,
            "visibility": null,
            "width": null
          }
        },
        "67a2939a18b4475e91b51bbfd0fbd15e": {
          "model_module": "jupyter-leaflet",
          "model_name": "LeafletMapStyleModel",
          "model_module_version": "^0.17",
          "state": {
            "_model_module": "jupyter-leaflet",
            "_model_module_version": "^0.17",
            "_model_name": "LeafletMapStyleModel",
            "_view_count": null,
            "_view_module": "@jupyter-widgets/base",
            "_view_module_version": "1.2.0",
            "_view_name": "StyleView",
            "cursor": "grab"
          }
        },
        "b0cb99b93856407f8239efaee60aae52": {
          "model_module": "@jupyter-widgets/controls",
          "model_name": "HBoxModel",
          "model_module_version": "1.5.0",
          "state": {
            "_dom_classes": [],
            "_model_module": "@jupyter-widgets/controls",
            "_model_module_version": "1.5.0",
            "_model_name": "HBoxModel",
            "_view_count": null,
            "_view_module": "@jupyter-widgets/controls",
            "_view_module_version": "1.5.0",
            "_view_name": "HBoxView",
            "box_style": "",
            "children": [
              "IPY_MODEL_33f061878ff848d2b9622a9203569c0f"
            ],
            "layout": "IPY_MODEL_43381d91689b494ebf35c58df5ea75bd"
          }
        },
        "3f1519fc59f4414e8a814a640f2bc385": {
          "model_module": "@jupyter-widgets/controls",
          "model_name": "VBoxModel",
          "model_module_version": "1.5.0",
          "state": {
            "_dom_classes": [],
            "_model_module": "@jupyter-widgets/controls",
            "_model_module_version": "1.5.0",
            "_model_name": "VBoxModel",
            "_view_count": null,
            "_view_module": "@jupyter-widgets/controls",
            "_view_module_version": "1.5.0",
            "_view_name": "VBoxView",
            "box_style": "",
            "children": [
              "IPY_MODEL_1cceac539b744b8c9bad156222b68f34"
            ],
            "layout": "IPY_MODEL_2db7c5da13024631a3b85927379e8d42"
          }
        },
        "13824c3033bc4e5c8523907890fe9dcd": {
          "model_module": "@jupyter-widgets/output",
          "model_name": "OutputModel",
          "model_module_version": "1.0.0",
          "state": {
            "_dom_classes": [],
            "_model_module": "@jupyter-widgets/output",
            "_model_module_version": "1.0.0",
            "_model_name": "OutputModel",
            "_view_count": null,
            "_view_module": "@jupyter-widgets/output",
            "_view_module_version": "1.0.0",
            "_view_name": "OutputView",
            "layout": "IPY_MODEL_f6e9aca28e674703b83ce1ed1412766e",
            "msg_id": "",
            "outputs": [
              {
                "output_type": "display_data",
                "data": {
                  "text/plain": "<Figure size 28.8x288 with 1 Axes>",
                  "image/png": "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\n"
                },
                "metadata": {
                  "needs_background": "light"
                }
              }
            ]
          }
        },
        "33f061878ff848d2b9622a9203569c0f": {
          "model_module": "@jupyter-widgets/controls",
          "model_name": "ToggleButtonModel",
          "model_module_version": "1.5.0",
          "state": {
            "_dom_classes": [],
            "_model_module": "@jupyter-widgets/controls",
            "_model_module_version": "1.5.0",
            "_model_name": "ToggleButtonModel",
            "_view_count": null,
            "_view_module": "@jupyter-widgets/controls",
            "_view_module_version": "1.5.0",
            "_view_name": "ToggleButtonView",
            "button_style": "",
            "description": "",
            "description_tooltip": null,
            "disabled": false,
            "icon": "globe",
            "layout": "IPY_MODEL_a4afd6fe295341b4bd681c365e8fb3dc",
            "style": "IPY_MODEL_551b70610ee14c89b75942af089ced89",
            "tooltip": "Search location/data",
            "value": false
          }
        },
        "43381d91689b494ebf35c58df5ea75bd": {
          "model_module": "@jupyter-widgets/base",
          "model_name": "LayoutModel",
          "model_module_version": "1.2.0",
          "state": {
            "_model_module": "@jupyter-widgets/base",
            "_model_module_version": "1.2.0",
            "_model_name": "LayoutModel",
            "_view_count": null,
            "_view_module": "@jupyter-widgets/base",
            "_view_module_version": "1.2.0",
            "_view_name": "LayoutView",
            "align_content": null,
            "align_items": null,
            "align_self": null,
            "border": null,
            "bottom": null,
            "display": null,
            "flex": null,
            "flex_flow": null,
            "grid_area": null,
            "grid_auto_columns": null,
            "grid_auto_flow": null,
            "grid_auto_rows": null,
            "grid_column": null,
            "grid_gap": null,
            "grid_row": null,
            "grid_template_areas": null,
            "grid_template_columns": null,
            "grid_template_rows": null,
            "height": null,
            "justify_content": null,
            "justify_items": null,
            "left": null,
            "margin": null,
            "max_height": null,
            "max_width": null,
            "min_height": null,
            "min_width": null,
            "object_fit": null,
            "object_position": null,
            "order": null,
            "overflow": null,
            "overflow_x": null,
            "overflow_y": null,
            "padding": null,
            "right": null,
            "top": null,
            "visibility": null,
            "width": null
          }
        },
        "1cceac539b744b8c9bad156222b68f34": {
          "model_module": "@jupyter-widgets/controls",
          "model_name": "ToggleButtonModel",
          "model_module_version": "1.5.0",
          "state": {
            "_dom_classes": [],
            "_model_module": "@jupyter-widgets/controls",
            "_model_module_version": "1.5.0",
            "_model_name": "ToggleButtonModel",
            "_view_count": null,
            "_view_module": "@jupyter-widgets/controls",
            "_view_module_version": "1.5.0",
            "_view_name": "ToggleButtonView",
            "button_style": "",
            "description": "",
            "description_tooltip": null,
            "disabled": false,
            "icon": "wrench",
            "layout": "IPY_MODEL_b79d490b1312493493d092969f182195",
            "style": "IPY_MODEL_00d360e8937048c6a0a2529b528bd890",
            "tooltip": "Toolbar",
            "value": false
          }
        },
        "2db7c5da13024631a3b85927379e8d42": {
          "model_module": "@jupyter-widgets/base",
          "model_name": "LayoutModel",
          "model_module_version": "1.2.0",
          "state": {
            "_model_module": "@jupyter-widgets/base",
            "_model_module_version": "1.2.0",
            "_model_name": "LayoutModel",
            "_view_count": null,
            "_view_module": "@jupyter-widgets/base",
            "_view_module_version": "1.2.0",
            "_view_name": "LayoutView",
            "align_content": null,
            "align_items": null,
            "align_self": null,
            "border": null,
            "bottom": null,
            "display": null,
            "flex": null,
            "flex_flow": null,
            "grid_area": null,
            "grid_auto_columns": null,
            "grid_auto_flow": null,
            "grid_auto_rows": null,
            "grid_column": null,
            "grid_gap": null,
            "grid_row": null,
            "grid_template_areas": null,
            "grid_template_columns": null,
            "grid_template_rows": null,
            "height": null,
            "justify_content": null,
            "justify_items": null,
            "left": null,
            "margin": null,
            "max_height": null,
            "max_width": null,
            "min_height": null,
            "min_width": null,
            "object_fit": null,
            "object_position": null,
            "order": null,
            "overflow": null,
            "overflow_x": null,
            "overflow_y": null,
            "padding": null,
            "right": null,
            "top": null,
            "visibility": null,
            "width": null
          }
        },
        "f6e9aca28e674703b83ce1ed1412766e": {
          "model_module": "@jupyter-widgets/base",
          "model_name": "LayoutModel",
          "model_module_version": "1.2.0",
          "state": {
            "_model_module": "@jupyter-widgets/base",
            "_model_module_version": "1.2.0",
            "_model_name": "LayoutModel",
            "_view_count": null,
            "_view_module": "@jupyter-widgets/base",
            "_view_module_version": "1.2.0",
            "_view_name": "LayoutView",
            "align_content": null,
            "align_items": null,
            "align_self": null,
            "border": null,
            "bottom": null,
            "display": null,
            "flex": null,
            "flex_flow": null,
            "grid_area": null,
            "grid_auto_columns": null,
            "grid_auto_flow": null,
            "grid_auto_rows": null,
            "grid_column": null,
            "grid_gap": null,
            "grid_row": null,
            "grid_template_areas": null,
            "grid_template_columns": null,
            "grid_template_rows": null,
            "height": null,
            "justify_content": null,
            "justify_items": null,
            "left": null,
            "margin": null,
            "max_height": null,
            "max_width": null,
            "min_height": null,
            "min_width": null,
            "object_fit": null,
            "object_position": null,
            "order": null,
            "overflow": null,
            "overflow_x": null,
            "overflow_y": null,
            "padding": null,
            "right": null,
            "top": null,
            "visibility": null,
            "width": null
          }
        },
        "a4afd6fe295341b4bd681c365e8fb3dc": {
          "model_module": "@jupyter-widgets/base",
          "model_name": "LayoutModel",
          "model_module_version": "1.2.0",
          "state": {
            "_model_module": "@jupyter-widgets/base",
            "_model_module_version": "1.2.0",
            "_model_name": "LayoutModel",
            "_view_count": null,
            "_view_module": "@jupyter-widgets/base",
            "_view_module_version": "1.2.0",
            "_view_name": "LayoutView",
            "align_content": null,
            "align_items": null,
            "align_self": null,
            "border": null,
            "bottom": null,
            "display": null,
            "flex": null,
            "flex_flow": null,
            "grid_area": null,
            "grid_auto_columns": null,
            "grid_auto_flow": null,
            "grid_auto_rows": null,
            "grid_column": null,
            "grid_gap": null,
            "grid_row": null,
            "grid_template_areas": null,
            "grid_template_columns": null,
            "grid_template_rows": null,
            "height": "28px",
            "justify_content": null,
            "justify_items": null,
            "left": null,
            "margin": null,
            "max_height": null,
            "max_width": null,
            "min_height": null,
            "min_width": null,
            "object_fit": null,
            "object_position": null,
            "order": null,
            "overflow": null,
            "overflow_x": null,
            "overflow_y": null,
            "padding": "0px 0px 0px 4px",
            "right": null,
            "top": null,
            "visibility": null,
            "width": "28px"
          }
        },
        "551b70610ee14c89b75942af089ced89": {
          "model_module": "@jupyter-widgets/controls",
          "model_name": "DescriptionStyleModel",
          "model_module_version": "1.5.0",
          "state": {
            "_model_module": "@jupyter-widgets/controls",
            "_model_module_version": "1.5.0",
            "_model_name": "DescriptionStyleModel",
            "_view_count": null,
            "_view_module": "@jupyter-widgets/base",
            "_view_module_version": "1.2.0",
            "_view_name": "StyleView",
            "description_width": ""
          }
        },
        "b79d490b1312493493d092969f182195": {
          "model_module": "@jupyter-widgets/base",
          "model_name": "LayoutModel",
          "model_module_version": "1.2.0",
          "state": {
            "_model_module": "@jupyter-widgets/base",
            "_model_module_version": "1.2.0",
            "_model_name": "LayoutModel",
            "_view_count": null,
            "_view_module": "@jupyter-widgets/base",
            "_view_module_version": "1.2.0",
            "_view_name": "LayoutView",
            "align_content": null,
            "align_items": null,
            "align_self": null,
            "border": null,
            "bottom": null,
            "display": null,
            "flex": null,
            "flex_flow": null,
            "grid_area": null,
            "grid_auto_columns": null,
            "grid_auto_flow": null,
            "grid_auto_rows": null,
            "grid_column": null,
            "grid_gap": null,
            "grid_row": null,
            "grid_template_areas": null,
            "grid_template_columns": null,
            "grid_template_rows": null,
            "height": "28px",
            "justify_content": null,
            "justify_items": null,
            "left": null,
            "margin": null,
            "max_height": null,
            "max_width": null,
            "min_height": null,
            "min_width": null,
            "object_fit": null,
            "object_position": null,
            "order": null,
            "overflow": null,
            "overflow_x": null,
            "overflow_y": null,
            "padding": "0px 0px 0px 4px",
            "right": null,
            "top": null,
            "visibility": null,
            "width": "28px"
          }
        },
        "00d360e8937048c6a0a2529b528bd890": {
          "model_module": "@jupyter-widgets/controls",
          "model_name": "DescriptionStyleModel",
          "model_module_version": "1.5.0",
          "state": {
            "_model_module": "@jupyter-widgets/controls",
            "_model_module_version": "1.5.0",
            "_model_name": "DescriptionStyleModel",
            "_view_count": null,
            "_view_module": "@jupyter-widgets/base",
            "_view_module_version": "1.2.0",
            "_view_name": "StyleView",
            "description_width": ""
          }
        }
      }
    }
  },
  "cells": [
    {
      "cell_type": "code",
      "source": [
        "# Visualize the Digital Elevation Model (DEM) using Google Earth Engine Python API\n",
        "# Author :Ishari Dilmini, Udeshika Sewwandi\n",
        "\n",
        "# Import Google Earth Engine\n",
        "import ee\n",
        "\n",
        "# Import Geemap\n",
        "import geemap"
      ],
      "metadata": {
        "id": "MSEQhVVEZqwV"
      },
      "execution_count": 2,
      "outputs": []
    },
    {
      "cell_type": "code",
      "source": [
        "# Starting the Google authenticaiton\n",
        "ee.Authenticate()\n",
        "\n",
        "# Initializing the google earth engine library\n",
        "ee.Initialize()"
      ],
      "metadata": {
        "colab": {
          "base_uri": "https://localhost:8080/"
        },
        "id": "COoVV0EHZx-J",
        "outputId": "a570394a-72fe-4be8-9e1b-a76153c3e31a"
      },
      "execution_count": 4,
      "outputs": [
        {
          "output_type": "stream",
          "name": "stdout",
          "text": [
            "To authorize access needed by Earth Engine, open the following URL in a web browser and follow the instructions. If the web browser does not start automatically, please manually browse the URL below.\n",
            "\n",
            "    https://code.earthengine.google.com/client-auth?scopes=https%3A//www.googleapis.com/auth/earthengine%20https%3A//www.googleapis.com/auth/devstorage.full_control&request_id=2CrqYRKr4KJf6EriYfl2jtJiVe8jDGoXs763xCcK7CY&tc=wLtfKMs82B1OWn0cDExGRhd8B5xfvIrCl8GDrxiXbv4&cc=7Mw9sukt6EgqRY4EXiFvmp2vJFX4sRYcXgFvEKJhxvY\n",
            "\n",
            "The authorization workflow will generate a code, which you should paste in the box below.\n",
            "Enter verification code: 4/1ARtbsJr13-JKAjHK3HB7wtCJRSpuyFsJaNAvw247ucvIQJMKDwsaDHGKf48\n",
            "\n",
            "Successfully saved authorization token.\n"
          ]
        }
      ]
    },
    {
      "cell_type": "code",
      "source": [
        "# Create the map object\n",
        "Map = geemap.Map()\n",
        "\n",
        "# Loading the country data\n",
        "all_countries = ee.FeatureCollection(\"USDOS/LSIB_SIMPLE/2017\");\n",
        "\n",
        "# Filtering the Area of Interest(AOI) as Sri Lanka\n",
        "AOI = all_countries.filter(ee.Filter.eq('country_na', \"Sri Lanka\"));\n",
        "\n",
        "# Import Digital Elevation Model (DEM) and Clip with the AOI\n",
        "dem = ee.Image('USGS/SRTMGL1_003').clip(AOI)\n",
        "\n",
        "# Visualizing colors for DEM\n",
        "viz_parameters = {\n",
        "    'min': 0,\n",
        "    'max': 4000,\n",
        "    'palette': ['006633', 'E5FFCC', '662A00', 'D8D8D8', 'F5F5F5'],\n",
        "}\n",
        "\n",
        "# Adding DEM Layer to the map\n",
        "Map.addLayer(dem, viz_parameters, 'SRTM Digital Elevation Model (DEM)')\n",
        "\n",
        "# Fix the zooming viewport to the Sri Lanka\n",
        "Map.centerObject(AOI, 7)\n",
        "\n",
        "# Adding the colors to Legend Bar\n",
        "# Define color palette for color bar\n",
        "colors = viz_parameters['palette']\n",
        "\n",
        "# Define min value\n",
        "vmin = viz_parameters['min']\n",
        "\n",
        "# Define max value\n",
        "vmax = viz_parameters['max']\n",
        "\n",
        "# Add the Legend bar to the map\n",
        "Map.add_colorbar(viz_parameters, label=\"Digital Elevation (m)\", layer_name = \"SRTM DEM\", orientation = 'vertical', transparent_bg=True,)\n",
        "Map"
      ],
      "metadata": {
        "colab": {
          "base_uri": "https://localhost:8080/",
          "height": 621,
          "referenced_widgets": [
            "1642003ec53248629b72a46403b85525",
            "2cff617a7bbf41689216e5c57f6adefd",
            "6da0ef3dadac4344bf45d49e9f0803a0",
            "d3313079bc89437bb6cfec88730555a3",
            "5978bfb157b944fea9991b278bf9425e",
            "e8b2669a0d744c7999dfda2e4b0b2dfd",
            "2e9f295a711e436b98c1cf534f7e5c13",
            "08ca1147c21845c7b4d0d13d099fcd48",
            "833b5c244aa847e4bfc37b86b7f2af1a",
            "12300ba459f64d37850b3460416b0fa6",
            "cfb3f27758da468f80674115607d1634",
            "e2a441ae9047487291e0754045fff38a",
            "b7ca1c7aad9b48778e079f2285abc797",
            "e55868b49120449c97d9b1c6b3505704",
            "fd607a433a534a7ba6325ec7bfe1f0cb",
            "d7779b0a3da94d839fc8b8a606723156",
            "67a2939a18b4475e91b51bbfd0fbd15e",
            "b0cb99b93856407f8239efaee60aae52",
            "3f1519fc59f4414e8a814a640f2bc385",
            "13824c3033bc4e5c8523907890fe9dcd",
            "33f061878ff848d2b9622a9203569c0f",
            "43381d91689b494ebf35c58df5ea75bd",
            "1cceac539b744b8c9bad156222b68f34",
            "2db7c5da13024631a3b85927379e8d42",
            "f6e9aca28e674703b83ce1ed1412766e",
            "a4afd6fe295341b4bd681c365e8fb3dc",
            "551b70610ee14c89b75942af089ced89",
            "b79d490b1312493493d092969f182195",
            "00d360e8937048c6a0a2529b528bd890"
          ]
        },
        "id": "Vg4dmhBUaoIw",
        "outputId": "93d77d17-0379-40ce-8c4f-6b177eabc39a"
      },
      "execution_count": 32,
      "outputs": [
        {
          "output_type": "display_data",
          "data": {
            "text/plain": [
              "Map(center=[7.612632691554347, 80.70289259697327], controls=(WidgetControl(options=['position', 'transparent_b…"
            ],
            "application/vnd.jupyter.widget-view+json": {
              "version_major": 2,
              "version_minor": 0,
              "model_id": "1642003ec53248629b72a46403b85525"
            }
          },
          "metadata": {
            "application/vnd.jupyter.widget-view+json": {
              "colab": {
                "custom_widget_manager": {
                  "url": "https://ssl.gstatic.com/colaboratory-static/widgets/colab-cdn-widget-manager/d2e234f7cc04bf79/manager.min.js"
                }
              }
            }
          }
        }
      ]
    }
  ]
}
